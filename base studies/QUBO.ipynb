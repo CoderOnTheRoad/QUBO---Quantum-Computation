{
 "cells": [
  {
   "cell_type": "code",
   "execution_count": 1,
   "id": "d51383d5",
   "metadata": {},
   "outputs": [
    {
     "name": "stdout",
     "output_type": "stream",
     "text": [
      "Requirement already satisfied: networkx in c:\\users\\soura\\anaconda3\\lib\\site-packages (2.5.1)\n",
      "Requirement already satisfied: decorator<5,>=4.3 in c:\\users\\soura\\anaconda3\\lib\\site-packages (from networkx) (4.4.2)\n"
     ]
    }
   ],
   "source": [
    "!pip install networkx"
   ]
  },
  {
   "cell_type": "code",
   "execution_count": 2,
   "id": "f5be6791",
   "metadata": {},
   "outputs": [],
   "source": [
    "#importing libraries\n",
    "import matplotlib.pyplot as plt\n",
    "import matplotlib.axes as axes\n",
    "import numpy as np\n",
    "from qiskit import *\n",
    "from qiskit.quantum_info import Statevector\n",
    "import networkx as nx\n",
    "from qiskit import Aer, execute, QuantumCircuit\n",
    "from docplex import *\n",
    "# auxilliary function to plot graphs\n",
    "def plot_result(G, x):\n",
    "    colors = ['r' if x[i] == 0 else 'b' for i in range(n)]\n",
    "    edge_labels = nx.get_edge_attributes(G, 'weight')\n",
    "    pos, default_axes = nx.spring_layout(G), plt.axes(frameon=True)\n",
    "    nx.draw_networkx(G, node_color=colors, node_size=600, alpha=.8, pos=pos)\n",
    "    nx.draw_networkx_edge_labels(G, pos=pos, edge_labels=edge_labels)"
   ]
  },
  {
   "cell_type": "markdown",
   "id": "c06914f8",
   "metadata": {},
   "source": [
    "# **CHECKING MAXCUT**"
   ]
  },
  {
   "cell_type": "code",
   "execution_count": 3,
   "id": "027c3b10",
   "metadata": {},
   "outputs": [
    {
     "data": {
      "image/png": "[encoded data removed]",
      "text/plain": [
       "<Figure size 432x288 with 1 Axes>"
      ]
     },
     "metadata": {},
     "output_type": "display_data"
    }
   ],
   "source": [
    "#CREATING A GRAPH\n",
    "G= nx.Graph()\n",
    "#add nodes to graph\n",
    "n=5\n",
    "G.add_nodes_from(range(n))\n",
    "#add weights to graph nodes \n",
    "# add edges: tuple is (i,j,weight) where (i,j) is the edge\n",
    "edges= [(0,1,1.0),(0,3,1.0),(1,2,1.0),(2,3,1.0),(1,4,1.0)]\n",
    "G.add_weighted_edges_from(edges)\n",
    "#plot\n",
    "plot_result(G,[0]*n)"
   ]
  },
  {
   "cell_type": "markdown",
   "id": "9ad5fc6d",
   "metadata": {},
   "source": [
    "# Example: Modeling MaxCut with DOcplex\n",
    "\n",
    "<br>\n",
    "\n",
    "$$\n",
    "\\max_{x \\in \\{0, 1\\}^n} \\sum_{(i, j) \\in E} w_{ij} (x_i + x_j - 2 x_i x_j)\n",
    "$$"
   ]
  },
  {
   "cell_type": "code",
   "execution_count": 4,
   "id": "95937d98",
   "metadata": {},
   "outputs": [
    {
     "name": "stdout",
     "output_type": "stream",
     "text": [
      "// This file has been generated by DOcplex\n",
      "// model name is: MaxCut\n",
      "// var contrainer section\n",
      "dvar bool x[5];\n",
      "\n",
      "maximize\n",
      " 2 x0 + 3 x1 + 2 x2 + 2 x3 + x4 [ - 2 x0*x1 - 2 x0*x3 - 2 x1*x2 - 2 x1*x4\n",
      " - 2 x2*x3 ];\n",
      " \n",
      "subject to {\n",
      "\n",
      "}\n"
     ]
    }
   ],
   "source": [
    "from docplex.mp.model import Model\n",
    "mdl=Model('MaxCut')\n",
    "#creating binary variables x0,x1,x2,x3\n",
    "x=mdl.binary_var_list('x{}'.format(i) for i in range(n)) #n is defined in the previous part\n",
    "#creating the cost function and attqaching it to the model\n",
    "objective= mdl.sum([w*(x[i]+x[j]-2*x[i]*x[j]) for (i,j,w)in edges]) #edges is defined in the previous part\n",
    "#maximizing the function\n",
    "mdl.maximize(objective)\n",
    "#printing the problem\n",
    "mdl.prettyprint()"
   ]
  },
  {
   "cell_type": "markdown",
   "id": "cadbcc69",
   "metadata": {},
   "source": [
    "# Example: Adding a Constraint\n",
    "\n",
    "<br>\n",
    "\n",
    "$$\n",
    "\\max_{x \\in \\{0, 1\\}^n} \\sum_{(i, j) \\in E} w_{ij} (x_i + x_j - 2 x_i x_j) \\\\\n",
    "\\text{subject to:} \\sum_{i=0}^{n-1} x_i = b\n",
    "$$"
   ]
  },
  {
   "cell_type": "code",
   "execution_count": 5,
   "id": "8945cf09",
   "metadata": {},
   "outputs": [
    {
     "name": "stdout",
     "output_type": "stream",
     "text": [
      "// This file has been generated by DOcplex\n",
      "// model name is: MaxCut\n",
      "// var contrainer section\n",
      "dvar bool x[5];\n",
      "\n",
      "maximize\n",
      " 2 x0 + 3 x1 + 2 x2 + 2 x3 + x4 [ - 2 x0*x1 - 2 x0*x3 - 2 x1*x2 - 2 x1*x4\n",
      " - 2 x2*x3 ];\n",
      " \n",
      "subject to {\n",
      " x0 + x1 + x2 + x3 + x4 == 2;\n",
      "\n",
      "}\n"
     ]
    }
   ],
   "source": [
    "b=2\n",
    "mdl.add_constraint(sum(x)==b)\n",
    "mdl.prettyprint()"
   ]
  },
  {
   "cell_type": "markdown",
   "id": "cab2f3b1",
   "metadata": {},
   "source": [
    "# 1. Solving the quadritic program with DOcplex\n",
    "\n"
   ]
  },
  {
   "cell_type": "code",
   "execution_count": 6,
   "id": "6664800f",
   "metadata": {},
   "outputs": [
    {
     "name": "stderr",
     "output_type": "stream",
     "text": [
      "C:\\Users\\soura\\anaconda3\\lib\\site-packages\\qiskit\\optimization\\__init__.py:92: DeprecationWarning: The package qiskit.optimization is deprecated. It was moved/refactored to qiskit_optimization (pip install qiskit-optimization). For more information see <https://github.com/Qiskit/qiskit-aqua/blob/master/README.md#migration-guide>\n",
      "  warn_package('optimization', 'qiskit_optimization', 'qiskit-optimization')\n"
     ]
    },
    {
     "name": "stdout",
     "output_type": "stream",
     "text": [
      "optimal function value: 5.0\n",
      "optimal value: [ 0.  1. -0.  1. -0.]\n",
      "status: SUCCESS\n"
     ]
    },
    {
     "data": {
      "image/png": "[encoded data removed]",
      "text/plain": [
       "<Figure size 432x288 with 1 Axes>"
      ]
     },
     "metadata": {},
     "output_type": "display_data"
    }
   ],
   "source": [
    "\n",
    "from qiskit.optimization import QuadraticProgram\n",
    "from qiskit.optimization.algorithms import CplexOptimizer\n",
    "#created a quadratic program\n",
    "qp=QuadraticProgram()\n",
    "#we have created the quadratic model via Docplex, now we have imported the model into the quadritic program\n",
    "qp.from_docplex(mdl)\n",
    "#now using CPLEX we are solving the problem\n",
    "cplex = CplexOptimizer()\n",
    "result=cplex.solve(qp)\n",
    "#printing the result and plotting it\n",
    "print(result)\n",
    "plot_result(G, result.x)"
   ]
  },
  {
   "cell_type": "markdown",
   "id": "ba6861ca",
   "metadata": {},
   "source": [
    "# 2. Optimization via Ising Hamiltonian\n"
   ]
  },
  {
   "cell_type": "markdown",
   "id": "164bd232",
   "metadata": {},
   "source": [
    "## Conversion to QUBO\n",
    "\n",
    "Qiskit's Optimization module provides converters for Quadratic Programs:"
   ]
  },
  {
   "cell_type": "markdown",
   "id": "6e67b707",
   "metadata": {},
   "source": [
    "# REFERENCE\n",
    "https://qiskit.org/documentation/tutorials/optimization/2_converters_for_quadratic_programs.html\n",
    "https://qiskit.org/documentation/tutorials/optimization/1_quadratic_program.html\n",
    "\n",
    "PENALTY -- https://web.stanford.edu/group/sisl/k12/optimization/MO-unit5-pdfs/5.6penaltyfunctions.pdf"
   ]
  },
  {
   "cell_type": "code",
   "execution_count": 7,
   "id": "555e1b7e",
   "metadata": {},
   "outputs": [],
   "source": [
    "from qiskit.optimization.converters import (\n",
    "    InequalityToEquality,     # converts inequality constraints to equality constraints by adding slack variables\n",
    "    LinearEqualityToPenalty,  # converts linear equality constraints to quadratic penalty terms \n",
    "    IntegerToBinary,          # converts integer variables to binary variables\n",
    "    QuadraticProgramToQubo    # combines the previous three converters\n",
    ")"
   ]
  },
  {
   "cell_type": "markdown",
   "id": "08f4c2c9",
   "metadata": {},
   "source": [
    "## Linear Equality Constraint to Quadratic Penalty Term"
   ]
  },
  {
   "cell_type": "code",
   "execution_count": 8,
   "id": "7a90d9ab",
   "metadata": {},
   "outputs": [
    {
     "data": {
      "text/plain": [
       "\\ This file has been generated by DOcplex\n",
       "\\ ENCODING=ISO-8859-1\n",
       "\\Problem name: MaxCut\n",
       "\n",
       "Maximize\n",
       " obj: 6 x0 + 7 x1 + 6 x2 + 6 x3 + 5 x4 + [ - 2 x0^2 - 8 x0*x1 - 4 x0*x2\n",
       "      - 8 x0*x3 - 4 x0*x4 - 2 x1^2 - 8 x1*x2 - 4 x1*x3 - 8 x1*x4 - 2 x2^2\n",
       "      - 8 x2*x3 - 4 x2*x4 - 2 x3^2 - 4 x3*x4 - 2 x4^2 ]/2 -4\n",
       "Subject To\n",
       "\n",
       "Bounds\n",
       " 0 <= x0 <= 1\n",
       " 0 <= x1 <= 1\n",
       " 0 <= x2 <= 1\n",
       " 0 <= x3 <= 1\n",
       " 0 <= x4 <= 1\n",
       "\n",
       "Binaries\n",
       " x0 x1 x2 x3 x4\n",
       "End"
      ]
     },
     "execution_count": 8,
     "metadata": {},
     "output_type": "execute_result"
    }
   ],
   "source": [
    "\n",
    "lin_cons_2_qua_penalty = LinearEqualityToPenalty(penalty=1)\n",
    "qp_without_constraint= lin_cons_2_qua_penalty.convert(qp) \n",
    "qp_without_constraint"
   ]
  },
  {
   "cell_type": "code",
   "execution_count": 9,
   "id": "855fa0f2",
   "metadata": {},
   "outputs": [
    {
     "name": "stdout",
     "output_type": "stream",
     "text": [
      "optimal function value: 5.0\n",
      "optimal value: [0. 1. 0. 1. 0.]\n",
      "status: SUCCESS\n"
     ]
    },
    {
     "data": {
      "image/png": "[encoded data removed]",
      "text/plain": [
       "<Figure size 432x288 with 1 Axes>"
      ]
     },
     "metadata": {},
     "output_type": "display_data"
    }
   ],
   "source": [
    "#solving the penalty added contraintless equation with cplex\n",
    "result = cplex.solve(qp_without_constraint)\n",
    "print(result)\n",
    "plot_result(G,result.x)"
   ]
  },
  {
   "cell_type": "markdown",
   "id": "4a4b2cae",
   "metadata": {},
   "source": [
    "## Mapping of QUBO to Ising Hamiltonian\n",
    "\n",
    "Suppose a QUBO\n",
    "$$\n",
    "\\min_{x \\in \\{0, 1\\}^n} \\sum_{i,j=0}^{n-1} A_{ij} x_i x_j + c\n",
    "$$\n",
    "\n",
    "1. Substitute<br>\n",
    "$x_i = (1 - z_i)/2,$<br>\n",
    "where $z_i \\in \\{-1, +1\\}$.\n",
    "<br>\n",
    "\n",
    "2. Replace<br>\n",
    "$z_i z_j = \\sigma_Z^i \\otimes \\sigma_Z^j$, and<br>\n",
    "$z_i = \\sigma_Z^i$,<br>\n",
    "where $\\sigma_Z^i$ denotes the Pauli Z-matrix $\\left(\\begin{array}{cc}1&0\\\\0&-1\\end{array}\\right)$ on the $i$-th qubit."
   ]
  },
  {
   "cell_type": "markdown",
   "id": "134b06e8",
   "metadata": {},
   "source": [
    "## From QUBO to Finding Hamiltonian Groundstates\n",
    "\n",
    "Suppose a QUBO\n",
    "$$\n",
    "\\min_{x \\in \\{0, 1\\}^n} \\sum_{i,j=0}^{n-1} A_{ij} x_i x_j + c\n",
    "$$\n",
    "\n",
    "which has been mapped to an Ising Hamiltonian:\n",
    "$$\n",
    "H = \\sum_{i,j=0}^{n-1} \\tilde{A}_{ij} \\sigma_Z^i \\otimes \\sigma_Z^j + \\sum_{i=0}^{n-1} \\tilde{b}_i \\sigma_Z^i + \\tilde{c}\n",
    "$$\n",
    "\n",
    "Finding the groundstate of $H$ is equivalent to solving the QUBO:\n",
    "\n",
    "$$\n",
    "\\min_{|\\psi\\rangle} \\langle \\psi |H| \\psi \\rangle\n",
    "$$\n",
    "\n",
    "<br>\n",
    "\n",
    "<b>Remark:</b> $H$ is diagonal, and thus, all computational basis states are eigenstates."
   ]
  },
  {
   "cell_type": "markdown",
   "id": "9e120f1e",
   "metadata": {},
   "source": [
    "# REFERENCES\n",
    "https://qiskit.org/documentation/tutorials/optimization/3_minimum_eigen_optimizer.html"
   ]
  },
  {
   "cell_type": "code",
   "execution_count": 10,
   "id": "c54d402b",
   "metadata": {},
   "outputs": [
    {
     "name": "stdout",
     "output_type": "stream",
     "text": [
      "offset= -1.0\n",
      "\n",
      "\n",
      "H= SummedOp([\n",
      "  -0.5 * IIIIZ,\n",
      "  -0.5 * IIIZI,\n",
      "  -0.5 * IZIII,\n",
      "  -0.5 * IIZII,\n",
      "  -0.5 * ZIIII,\n",
      "  IIIZZ,\n",
      "  0.5 * IIZIZ,\n",
      "  IIZZI,\n",
      "  IZIIZ,\n",
      "  0.5 * IZIZI,\n",
      "  IZZII,\n",
      "  0.5 * ZIIIZ,\n",
      "  ZIIZI,\n",
      "  0.5 * ZIZII,\n",
      "  0.5 * ZZIII\n",
      "])\n"
     ]
    },
    {
     "name": "stderr",
     "output_type": "stream",
     "text": [
      "C:\\Users\\soura\\anaconda3\\lib\\site-packages\\qiskit\\aqua\\operators\\operator_base.py:46: DeprecationWarning: The package qiskit.aqua.operators is deprecated. It was moved/refactored to qiskit.opflow (pip install qiskit-terra). For more information see <https://github.com/Qiskit/qiskit-aqua/blob/master/README.md#migration-guide>\n",
      "  warn_package('aqua.operators', 'qiskit.opflow', 'qiskit-terra')\n"
     ]
    }
   ],
   "source": [
    "#converting the quadrititic binary unconstrined (as there is no constraint (see above) equation to ising hamiltoninan \n",
    "H,offset=qp_without_constraint.to_ising() \n",
    "print('offset=',offset)\n",
    "print('\\n')\n",
    "print('H=',H)"
   ]
  },
  {
   "cell_type": "markdown",
   "id": "bbfbbec0",
   "metadata": {},
   "source": [
    "# PLOTTING the diagonal elements of the hamiltonian"
   ]
  },
  {
   "cell_type": "code",
   "execution_count": 11,
   "id": "dda44d7d",
   "metadata": {},
   "outputs": [
    {
     "name": "stdout",
     "output_type": "stream",
     "text": [
      "dim(H): (32, 32)\n",
      "[[ 5.  0.  0. ...  0.  0.  0.]\n",
      " [ 0.  0.  0. ...  0.  0.  0.]\n",
      " [ 0.  0. -1. ...  0.  0.  0.]\n",
      " ...\n",
      " [ 0.  0.  0. ...  2.  0.  0.]\n",
      " [ 0.  0.  0. ...  0.  3.  0.]\n",
      " [ 0.  0.  0. ...  0.  0. 10.]]\n",
      "[ 5.  0. -1. -2.  0. -3. -2. -1.  0. -1. -4. -1. -1.  0. -1.  4.  1. -2.\n",
      " -1.  0. -2. -3.  0.  3. -2. -1. -2.  3. -1.  2.  3. 10.]\n",
      "-4.0\n"
     ]
    },
    {
     "ename": "NameError",
     "evalue": "name 'dia_min_indexes' is not defined",
     "output_type": "error",
     "traceback": [
      "\u001b[1;31m---------------------------------------------------------------------------\u001b[0m",
      "\u001b[1;31mNameError\u001b[0m                                 Traceback (most recent call last)",
      "\u001b[1;32m<ipython-input-11-d853acca267f>\u001b[0m in \u001b[0;36m<module>\u001b[1;34m\u001b[0m\n\u001b[0;32m      6\u001b[0m \u001b[1;31m# finding the indices or indexes of the diagonal of the matrix where the minimum element lies\u001b[0m\u001b[1;33m\u001b[0m\u001b[1;33m\u001b[0m\u001b[1;33m\u001b[0m\u001b[0m\n\u001b[0;32m      7\u001b[0m \u001b[0mdia_min_indices\u001b[0m \u001b[1;33m=\u001b[0m \u001b[0mlist\u001b[0m\u001b[1;33m(\u001b[0m\u001b[0mnp\u001b[0m\u001b[1;33m.\u001b[0m\u001b[0mwhere\u001b[0m\u001b[1;33m(\u001b[0m\u001b[0mH_matrix\u001b[0m\u001b[1;33m.\u001b[0m\u001b[0mdiagonal\u001b[0m\u001b[1;33m(\u001b[0m\u001b[1;33m)\u001b[0m\u001b[1;33m==\u001b[0m\u001b[0mmin\u001b[0m\u001b[1;33m(\u001b[0m\u001b[0mH_matrix\u001b[0m\u001b[1;33m.\u001b[0m\u001b[0mdiagonal\u001b[0m\u001b[1;33m(\u001b[0m\u001b[1;33m)\u001b[0m\u001b[1;33m)\u001b[0m\u001b[1;33m)\u001b[0m\u001b[1;33m)\u001b[0m\u001b[1;33m[\u001b[0m\u001b[1;36m0\u001b[0m\u001b[1;33m]\u001b[0m\u001b[1;33m\u001b[0m\u001b[1;33m\u001b[0m\u001b[0m\n\u001b[1;32m----> 8\u001b[1;33m \u001b[0mprint\u001b[0m\u001b[1;33m(\u001b[0m\u001b[0mdia_min_indexes\u001b[0m\u001b[1;33m)\u001b[0m\u001b[1;33m\u001b[0m\u001b[1;33m\u001b[0m\u001b[0m\n\u001b[0m\u001b[0;32m      9\u001b[0m \u001b[1;31m#plotting the diagonal elements by a bar graph\u001b[0m\u001b[1;33m\u001b[0m\u001b[1;33m\u001b[0m\u001b[1;33m\u001b[0m\u001b[0m\n\u001b[0;32m     10\u001b[0m \u001b[0mplt\u001b[0m\u001b[1;33m.\u001b[0m\u001b[0mfigure\u001b[0m\u001b[1;33m(\u001b[0m\u001b[0mfigsize\u001b[0m\u001b[1;33m=\u001b[0m\u001b[1;33m(\u001b[0m\u001b[1;36m12\u001b[0m\u001b[1;33m,\u001b[0m \u001b[1;36m5\u001b[0m\u001b[1;33m)\u001b[0m\u001b[1;33m)\u001b[0m\u001b[1;33m\u001b[0m\u001b[1;33m\u001b[0m\u001b[0m\n",
      "\u001b[1;31mNameError\u001b[0m: name 'dia_min_indexes' is not defined"
     ]
    }
   ],
   "source": [
    "H_matrix = np.real(H.to_matrix())  #converts the hamiltonian to matrix form\n",
    "print('dim(H):', H_matrix.shape)  #printing the dimension of the matrix\n",
    "print(H_matrix)                   # printing the matrix\n",
    "print(H_matrix.diagonal())        # prining the diagonal of the matrix\n",
    "print(min(H_matrix.diagonal()))   # printing the minimum element of the diagonal\n",
    "# finding the indices or indexes of the diagonal of the matrix where the minimum element lies\n",
    "dia_min_indices = list(np.where(H_matrix.diagonal()==min(H_matrix.diagonal())))[0]\n",
    "print(dia_min_indexes)\n",
    "#plotting the diagonal elements by a bar graph\n",
    "plt.figure(figsize=(12, 5))\n",
    "plt.bar(range(2**n),H_matrix.diagonal())\n",
    "plt.bar(dia_min_indices,H_matrix.diagonal()[dia_min_indices],color='g')#plotting minimum indices in green\n",
    "plt.xticks(range(2**n),['('+str(i)+'){0:05b}'.format(i) for i in range(2**n)],rotation=90,fontsize=14)\n",
    "plt.yticks(fontsize=14)\n",
    "plt.show()"
   ]
  },
  {
   "cell_type": "markdown",
   "id": "9f96b704",
   "metadata": {},
   "source": [
    "## Variational Quantum Eigensolver (VQE)\n",
    "\n",
    "Replace minimization over all $|\\psi\\rangle$ by minimization over a parametrized subset $|\\psi(\\theta)\\rangle$:\n",
    "<br>\n",
    "\n",
    "$$\n",
    "\\min_{\\theta} \\langle \\psi(\\theta) |H| \\psi(\\theta) \\rangle\n",
    "$$"
   ]
  },
  {
   "cell_type": "markdown",
   "id": "8ac543a8",
   "metadata": {},
   "source": [
    "## From Previous Session: VQE with `RealAmplitudes` Circuit"
   ]
  },
  {
   "cell_type": "code",
   "execution_count": null,
   "id": "147b7a58",
   "metadata": {},
   "outputs": [],
   "source": []
  }
 ],
 "metadata": {
  "kernelspec": {
   "display_name": "Python 3",
   "language": "python",
   "name": "python3"
  },
  "language_info": {
   "codemirror_mode": {
    "name": "ipython",
    "version": 3
   },
   "file_extension": ".py",
   "mimetype": "text/x-python",
   "name": "python",
   "nbconvert_exporter": "python",
   "pygments_lexer": "ipython3",
   "version": "3.8.8"
  }
 },
 "nbformat": 4,
 "nbformat_minor": 5
}
